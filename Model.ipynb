{
 "cells": [
  {
   "cell_type": "code",
   "execution_count": 1,
   "metadata": {},
   "outputs": [],
   "source": [
    "import numpy as np\n",
    "import keras\n",
    "import tensorflow as tf\n",
    "import tensorflow_hub as hub\n",
    "from tensorflow.keras.preprocessing.image import load_img, img_to_array\n",
    "from keras.applications.vgg16 import preprocess_input"
   ]
  },
  {
   "cell_type": "code",
   "execution_count": 2,
   "metadata": {},
   "outputs": [],
   "source": [
    "model = keras.models.load_model('model.h5')"
   ]
  },
  {
   "cell_type": "code",
   "execution_count": 3,
   "metadata": {},
   "outputs": [],
   "source": [
    "my_dict = {'Apple Braeburn': 1,'Apple Granny Smith': 2,'Apricot': 3,'Avocado': 4,'Banana': 5,\n",
    "          'Blueberry': 6, 'Cactus fruit': 7, 'Cantaloupe': 8, 'Cherry': 9, 'Clementine': 10,\n",
    "          'Corn': 11, 'Cucumber Ripe': 12, 'Grape Blue': 13, 'Kiwi': 14, 'Lemon': 15, 'Limes': 16,\n",
    "          'Mango': 17, 'Onion White': 18, 'Orange': 19, 'Papaya': 20, 'Passion Fruit': 21, 'Peach': 22,\n",
    "          'Pear': 23, 'Pepper Green': 24, 'Pepper Red': 25, 'Pineapple': 26, 'Plum': 27,\n",
    "          'Pomegranate': 28, 'Potato Red': 29, 'Raspberry': 30, 'Strawberry': 31,\n",
    "          'Tomato': 32, 'Watermelon': 33};\n",
    "\n",
    "keys_list = list(my_dict)"
   ]
  },
  {
   "cell_type": "code",
   "execution_count": 4,
   "metadata": {},
   "outputs": [],
   "source": [
    "def label(filename):\n",
    "   image = load_img(filename, target_size=(224, 224))\n",
    "   image = img_to_array(image)\n",
    "   image = image.reshape((1, image.shape[0], image.shape[1], image.shape[2]))\n",
    "   image = preprocess_input(image)\n",
    "   yhat = model.predict(image)\n",
    "   prediction = np.argmax(yhat[0])\n",
    "   key = keys_list[prediction]\n",
    "   return key"
   ]
  },
  {
   "cell_type": "code",
   "execution_count": 5,
   "metadata": {},
   "outputs": [],
   "source": [
    "filename = ('Images/carevichok.jpg')"
   ]
  },
  {
   "cell_type": "code",
   "execution_count": 6,
   "metadata": {},
   "outputs": [
    {
     "name": "stdout",
     "output_type": "stream",
     "text": [
      "1/1 [==============================] - 3s 3s/step\n"
     ]
    },
    {
     "data": {
      "text/plain": [
       "'Corn'"
      ]
     },
     "execution_count": 6,
     "metadata": {},
     "output_type": "execute_result"
    }
   ],
   "source": [
    "label(filename)"
   ]
  }
 ],
 "metadata": {
  "kernelspec": {
   "display_name": "Python 3",
   "language": "python",
   "name": "python3"
  },
  "language_info": {
   "codemirror_mode": {
    "name": "ipython",
    "version": 3
   },
   "file_extension": ".py",
   "mimetype": "text/x-python",
   "name": "python",
   "nbconvert_exporter": "python",
   "pygments_lexer": "ipython3",
   "version": "3.8.10"
  }
 },
 "nbformat": 4,
 "nbformat_minor": 2
}
